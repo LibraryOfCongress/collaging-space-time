{
 "cells": [
  {
   "cell_type": "markdown",
   "metadata": {
    "vscode": {
     "languageId": "html"
    }
   },
   "source": [
    "Combining the JSON Metadata into a manifest of all of the different assets that were generated.\n",
    "\n",
    "* In the manifest, each row is an image/ resource. Including of all the metadata below (+ resource_id, item url) and a list of segments.\n",
    "* Each row of the manifest should include:\n",
    "    * Item Title\n",
    "    * URL\n",
    "    * subject List\n",
    "    * date\n",
    "    * alt_text entry -- duplicate the item title for now.\n",
    "    * contributor_names\n",
    "    * Locations \n",
    "    * Collection Name (source_collection)\n",
    "        *  set -- specific to the Free-to-Reuse\n",
    "    * original_format\n",
    "    * thumbnail (filename)\n",
    "    * List of Segements (Filename of the cutout, Filename of the mask, and bounding box information)\n",
    "        *   outputs from step 1 and step 2 (filename and bounding box information)"
   ]
  },
  {
   "cell_type": "markdown",
   "metadata": {},
   "source": [
    "Starting with a dummy output"
   ]
  }
 ],
 "metadata": {
  "language_info": {
   "name": "python"
  }
 },
 "nbformat": 4,
 "nbformat_minor": 2
}
