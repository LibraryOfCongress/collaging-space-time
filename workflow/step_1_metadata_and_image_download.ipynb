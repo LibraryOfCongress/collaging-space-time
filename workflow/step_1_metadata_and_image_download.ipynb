{
 "cells": [
  {
   "cell_type": "markdown",
   "metadata": {},
   "source": [
    "# Step 1: Metadata Collection and Image Download\n",
    "\n",
    "In this section, we will work to extract, save, and structure the relevant metadata from the DC image collection created in the last section, creating a JSON file with all the relevant metadata. Using the metadata, we will also download and save the images."
   ]
  },
  {
   "cell_type": "markdown",
   "metadata": {},
   "source": [
    "### I. Imports\n",
    "\n",
    "Before we get started, let's import some libraries and modules that that are specific to this step in the workflow. We'll also import the libraries and modules important to the overall process from workflow_helpers.py."
   ]
  },
  {
   "cell_type": "code",
   "execution_count": null,
   "metadata": {},
   "outputs": [],
   "source": [
    "from PIL import Image\n",
    "from io import BytesIO\n",
    "from workflow_helpers import *\n",
    "import json\n",
    "import requests"
   ]
  },
  {
   "cell_type": "code",
   "execution_count": null,
   "metadata": {},
   "outputs": [],
   "source": [
    "number_of_instances = 80"
   ]
  },
  {
   "cell_type": "markdown",
   "metadata": {},
   "source": [
    "### II. Load in Collection CSV and Access Collection Links\n",
    "\n",
    "In this step, we'll assign the filepath of the collection data we want to work with to a variable. For simplicity, we'll call this variable \"file\". \n",
    "\n",
    "Please note that you may use any data storage format that you are comfortable with, such as JSON. However, our helper function is written based on the data storage format that our team is most likely to start with."
   ]
  },
  {
   "cell_type": "markdown",
   "metadata": {},
   "source": [
    "Before we continue, let's create directories to store the data from our collections and to store the images after we download them."
   ]
  },
  {
   "cell_type": "code",
   "execution_count": null,
   "metadata": {},
   "outputs": [],
   "source": [
    "# Create the general data folder (containing all of the data related to our collections and more)\n",
    "data_directory = \"workflow_data\"\n",
    "\n",
    "if not os.path.exists(data_directory):\n",
    "    os.makedirs(data_directory)\n",
    "\n",
    "\n",
    "# Create the image directory\n",
    "image_directory = \"image-collection-output\"\n",
    "\n",
    "if not os.path.exists(image_directory):\n",
    "    os.mkdir(image_directory)"
   ]
  },
  {
   "cell_type": "code",
   "execution_count": null,
   "metadata": {},
   "outputs": [],
   "source": [
    "# assigning the filepath to the csv file with the collection information\n",
    "file = os.path.join(data_directory, \"jfp-collections-starter-collections.csv\")\n",
    "# using the function from the helper file to read in the csv\n",
    "collection = read_in_collection_csv_for_links(file)"
   ]
  },
  {
   "cell_type": "markdown",
   "metadata": {},
   "source": [
    "Let's iterate through the data to become familar with it, verify that it is in a format we can work with, and that it has all the information we expect.\n",
    "\n",
    "If your collection data is larger than what we have here, you can limit the output from the collection by tweaking our code as shown below, where 'n' is the number of items you want to return from the collection list:\n",
    "\n",
    "\n",
    "To append each link without the CSV header, we'll iterate through our \"collection\" list variable from row 1, where row 0 is the header row."
   ]
  },
  {
   "cell_type": "code",
   "execution_count": null,
   "metadata": {},
   "outputs": [],
   "source": [
    "# making sure the data is as expected\n",
    "for row in collection:\n",
    "    print(row)\n",
    "\n",
    "# isolating  and saving the collection links\n",
    "collection_links = []\n",
    "\n",
    "for link in collection[1:]:\n",
    "    collection_links.append(link[1])"
   ]
  },
  {
   "cell_type": "markdown",
   "metadata": {},
   "source": [
    "Now that we've saved the collection links, let's access the JSON information."
   ]
  },
  {
   "cell_type": "code",
   "execution_count": null,
   "metadata": {},
   "outputs": [],
   "source": [
    "# list stores the json response for each collection\n",
    "json_responses = []\n",
    "\n",
    "for link in collection_links:\n",
    "    # using the access_and_store_json function from the helper file\n",
    "    json_response = access_and_store_json(link)\n",
    "    json_responses.append(json_response)"
   ]
  },
  {
   "cell_type": "markdown",
   "metadata": {},
   "source": [
    "In this next step, we will optionally download the JSON files for each collection for easier inspection of the structure and organization."
   ]
  },
  {
   "cell_type": "code",
   "execution_count": null,
   "metadata": {},
   "outputs": [],
   "source": [
    "for index in range(len(collection_links)):\n",
    "    name = collection[index + 1][0].lower().replace(\" \", \"_\")\n",
    "    with open(os.path.join(data_directory, f\"{name}.json\"), \"w\") as f:\n",
    "        json.dump(json_responses[index], f, indent=4)"
   ]
  },
  {
   "cell_type": "markdown",
   "metadata": {},
   "source": [
    "### III. The Metadata\n",
    "\n",
    "Now, we will be creating a new JSON file with the relevant metadata we want to save about each image. To demonstrate this, we will be filtering out and collecting images from our chosen collections that include \"DC\" as a topic, and saving select metadata for reference for each image.\n",
    "\n",
    "For our purposes, we've selected to save the following: the resource ID, the title, the image URL, the subjects, the date, the contributor names, the description, the alt text (if available), the collection name (source_collection), and the original format.\n",
    "\n",
    "**The structure of the JSON for collections with alt text is different from that of collections without alt text, so we will have to extract the metadata slightly differently.**"
   ]
  },
  {
   "cell_type": "code",
   "execution_count": null,
   "metadata": {},
   "outputs": [],
   "source": [
    "json_responses_no_alt = (\n",
    "    []\n",
    ")  # A list to store the JSON information from collections with no alt text\n",
    "json_responses_alt = (\n",
    "    []\n",
    ")  # A list to store the JSON information from collections with alt text\n",
    "\n",
    "for link in collection_links:\n",
    "    try:\n",
    "        response = access_and_store_json(link)\n",
    "        if response[\"site_type\"] == \"collections\":\n",
    "            json_responses_no_alt.append(response)\n",
    "        elif response[\"site_type\"] == \"free-to-use\":\n",
    "            # the free-to-use collection has been specially curated and given alt text\n",
    "            json_responses_alt.append(response)\n",
    "    except:\n",
    "        print(\"try again\")"
   ]
  },
  {
   "cell_type": "markdown",
   "metadata": {},
   "source": [
    "Let's start with the collections with alt text. We'll begin by getting the urls of each image in the collections with alt text so we can use them for get requests to get the necessary metadata.\n",
    "\n",
    "The Free to Use and Reuse collection is specifically curated and has alt-text, whereas most other Library collections do not.\n",
    "\n",
    "As such, we cannot access the image URLs in the same way. We need to find a way to separate collections with alt-text and those without, and store their JSON responses into separate variables.\n",
    "\n",
    "There are many ways to do this at scale, but some customization will be needed regardless.\n",
    "\n",
    "We opted to sort the collection via key lookup, using ``` ['site_type'] ``` as a way to sort the collections since only one of these collections have alt-text."
   ]
  },
  {
   "cell_type": "code",
   "execution_count": null,
   "metadata": {},
   "outputs": [],
   "source": [
    "# A list of partial URLs extracted from the JSON data, structure similar\n",
    "# to the following: '/resource/highsm.12695/'.\"\"\"\n",
    "unformatted_links = []\n",
    "\n",
    "# A list of URLs without the JSON filter parameter, but with the root of the URL: 'https://www.loc.gov'.\n",
    "partially_formatted_links = []\n",
    "\n",
    "# A list of fully formatted urls, with root and JSON filter applied.\n",
    "formatted_links = []\n",
    "\n",
    "# A holding list for using try and except.\n",
    "error_links = []\n",
    "\n",
    "# A list of URLs from the data that already had an 'https://' construction and cannot have the\n",
    "# JSON filter parameted applied.\n",
    "research_guide_not_image_collection = []\n",
    "\n",
    "for collection_data in json_responses_alt:\n",
    "    results = collection_data[\"pages\"]\n",
    "    for result in results:\n",
    "        get_children = result[\"children\"][1:]\n",
    "        for group in get_children:\n",
    "            set = group[\"set\"][\"items\"]\n",
    "            for item in set:\n",
    "                link = item[\"link\"]\n",
    "                if \"alt\" in item.keys():\n",
    "                    alt = item[\"alt\"]\n",
    "                    # saving alt text for easier retrieval to built the JSON file later\n",
    "                else:\n",
    "                    alt = \"NA\"\n",
    "                to_append = []\n",
    "                to_append.append(link)\n",
    "                to_append.append(alt)\n",
    "                unformatted_links.append(to_append)\n",
    "\n",
    "for link in unformatted_links:\n",
    "    root = \"https://www.loc.gov\"\n",
    "    try:\n",
    "        if \"https://\" not in link[0]:\n",
    "            y = root + link[0]\n",
    "            to_append = []\n",
    "            to_append.append(y)\n",
    "            to_append.append(link[1])\n",
    "            partially_formatted_links.append(to_append)\n",
    "        if \"https://\" in link[0]:\n",
    "            research_guide_not_image_collection.append(link)\n",
    "    except:\n",
    "        error_links.append(link)\n",
    "\n",
    "for link in partially_formatted_links:\n",
    "    try:\n",
    "        if \"?\" not in link[0]:\n",
    "            x = link[0] + \"?fo=json\"\n",
    "            to_append = []\n",
    "            to_append.append(x)\n",
    "            to_append.append(link[1])\n",
    "            formatted_links.append(to_append)\n",
    "        if \"?\" in link[0]:\n",
    "            # Image URL may already have a filter, so we need to append the JSON filter to a existing filter.\n",
    "\n",
    "            x = link[0] + \"&fo=json\"\n",
    "            to_append = []\n",
    "            to_append.append(x)\n",
    "            to_append.append(link[1])\n",
    "            formatted_links.append(to_append)\n",
    "    except:\n",
    "        error_links.append(link)"
   ]
  },
  {
   "cell_type": "markdown",
   "metadata": {},
   "source": [
    "Now that we have all the links, we can perform get requests, filter for relevant DC images, and store the relevant metadata.\n",
    "\n",
    "In the collections with no alt text, we'll be able to do this directly from the json we already have, without having to use get requests on individual images."
   ]
  },
  {
   "cell_type": "code",
   "execution_count": null,
   "metadata": {},
   "outputs": [],
   "source": [
    "# Confirming the structure of json for a single image\n",
    "image_request = request_link(formatted_links[0][0])\n",
    "print(image_request[\"item\"].keys())"
   ]
  },
  {
   "cell_type": "code",
   "execution_count": null,
   "metadata": {},
   "outputs": [],
   "source": [
    "metadata_dict = (\n",
    "    {}\n",
    ")  # Our dictionary for storing metadata, to be converted into a JSON file\n",
    "\n",
    "\n",
    "# counter = 0 #Each image will be given an index for organization purposes -- IN PROGRESS, MIGHT USE LCCN INSTEAD\n",
    "\n",
    "# We'll limit the amount of links we process here for a faster runtime\n",
    "for i, link in enumerate(formatted_links[:number_of_instances]):\n",
    "    # if i%10 == 0 and i !=0:\n",
    "    #     sleep(10)\n",
    "\n",
    "    try:\n",
    "        json_results = request_link(link[0])\n",
    "        # Filter by Washington, D.C. and images that can be freely distributed and used.\n",
    "\n",
    "        if (\n",
    "            \"No known restrictions\" in json_results[\"item\"][\"item\"][\"rights_advisory\"]\n",
    "            and json_results[\"item\"][\"item\"][\"rights_information\"]\n",
    "        ):\n",
    "            if (\n",
    "                \"D.C.\"\n",
    "                or \"District of Columbia\" in json_results[\"item\"][\"item\"][\"title\"]\n",
    "                or json_results[\"item\"][\"item\"][\"location\"]\n",
    "            ):\n",
    "                # ID:\n",
    "                id = json_results[\"item\"][\"number_lccn\"]\n",
    "                # Title:\n",
    "                title = json_results[\"item\"][\"title\"]\n",
    "                # URL:\n",
    "                url = json_results[\"item\"][\"image_url\"]\n",
    "                # Subjects:\n",
    "                subjects = json_results[\"item\"][\"subject_headings\"]\n",
    "                # Date:\n",
    "                date = json_results[\"item\"][\"date\"]\n",
    "                # Contributors:\n",
    "                contributors = json_results[\"item\"][\"contributor_names\"]\n",
    "                # Description:\n",
    "                description = json_results[\"item\"][\"description\"]\n",
    "                # Collection:\n",
    "                collection = json_results[\"item\"][\"source_collection\"]\n",
    "                # Original Format:\n",
    "                original_format = json_results[\"item\"][\"original_format\"]\n",
    "\n",
    "                image_name = f\"image_{id[0]}.jpg\"\n",
    "                metadata_dict.update(\n",
    "                    {\n",
    "                        image_name: {\n",
    "                            \"resource_id\": id[0],\n",
    "                            \"title\": title,\n",
    "                            \"item_url\": url[-1],\n",
    "                            \"subjects\": subjects,\n",
    "                            \"dates\": date,\n",
    "                            \"contributors\": contributors,\n",
    "                            \"description\": description,\n",
    "                            \"alt_text\": link[1],\n",
    "                            \"collection\": collection,\n",
    "                            \"original_format\": original_format,\n",
    "                        }\n",
    "                    }\n",
    "                )\n",
    "                # counter += 1\n",
    "\n",
    "    except:\n",
    "        error_links.append(link[0])"
   ]
  },
  {
   "cell_type": "markdown",
   "metadata": {},
   "source": [
    "Now, let's move onto the collections without alt text."
   ]
  },
  {
   "cell_type": "code",
   "execution_count": null,
   "metadata": {},
   "outputs": [],
   "source": [
    "for collection_data in json_responses_no_alt:\n",
    "    results = collection_data[\"content\"][\"results\"]\n",
    "    for result in results[:number_of_instances]:\n",
    "        # Again, limiting the data returned for faster processing.\n",
    "\n",
    "        # Filter by Washington, D.C. and images that can be freely distributed and used.\n",
    "        if (\n",
    "            \"No Known restrictions\" in result[\"item\"][\"rights_advisory\"]\n",
    "            or result[\"item\"][\"rights_information\"]\n",
    "        ):\n",
    "            if (\n",
    "                \"D.C.\"\n",
    "                or \"District of Columbia\" in result[\"item\"][\"title\"]\n",
    "                or result[\"item\"][\"notes\"][:]\n",
    "            ):\n",
    "\n",
    "                # As the fields of collections can be varied, we have to check which fields are included\n",
    "                # with certain images\n",
    "                # ID:\n",
    "                id = result[\"number_lccn\"]\n",
    "                # Title:\n",
    "                title = result[\"title\"]\n",
    "                # URL:\n",
    "                url = result[\"image_url\"]\n",
    "                # Subjects:\n",
    "                if \"subject_heading\" in result.keys():\n",
    "                    subjects = result[\"subject\"]\n",
    "                else:\n",
    "                    subjects = \"NA\"\n",
    "                # Date:\n",
    "                if \"date\" in result.keys():\n",
    "                    date = result[\"date\"]\n",
    "                else:\n",
    "                    date = \"NA\"\n",
    "                # Contributors:\n",
    "                if \"contributor\" in result.keys():\n",
    "                    contributors = result[\"contributor\"]\n",
    "                else:\n",
    "                    contributors = \"NA\"\n",
    "                # Description:\n",
    "                if \"description\" in result.keys():\n",
    "                    description = result[\"description\"]\n",
    "                else:\n",
    "                    description = \"NA\"\n",
    "                # Collection:\n",
    "                if \"partof\" in result.keys():\n",
    "                    collection = result[\"partof\"]\n",
    "                else:\n",
    "                    collection = \"NA\"\n",
    "                # Original Format:\n",
    "                original_format = result[\"original_format\"]\n",
    "\n",
    "                image_name = f\"image_{id[0]}.jpg\"\n",
    "                metadata_dict.update(\n",
    "                    {\n",
    "                        image_name: {\n",
    "                            \"resource_id\": id[0],\n",
    "                            \"title\": title,\n",
    "                            \"item_url\": url[-1],\n",
    "                            \"subjects\": subjects,\n",
    "                            \"dates\": date,\n",
    "                            \"contributors\": contributors,\n",
    "                            \"description\": description,\n",
    "                            \"alt_text\": link[1],\n",
    "                            \"collection\": collection,\n",
    "                            \"original_format\": original_format,\n",
    "                        }\n",
    "                    }\n",
    "                )"
   ]
  },
  {
   "cell_type": "markdown",
   "metadata": {},
   "source": [
    "Now, using the metadata dictionary let's download the images."
   ]
  },
  {
   "cell_type": "code",
   "execution_count": null,
   "metadata": {},
   "outputs": [],
   "source": [
    "for item in metadata_dict:\n",
    "    try:\n",
    "        item_data = metadata_dict[item]\n",
    "        id = item_data[\"resource_id\"]\n",
    "        image = requests.get(item_data[\"item_url\"])\n",
    "        image_filename = os.path.join(image_directory, f\"image_{id}.jpg\")\n",
    "        img_bytes_io = BytesIO(image.content)\n",
    "        converted_file = Image.open(img_bytes_io).convert(\"RGB\").save(image_filename)\n",
    "        print(f\"Saved: {item}\")\n",
    "    except:\n",
    "        print(f\"Failed to Save: {item} \")"
   ]
  },
  {
   "cell_type": "markdown",
   "metadata": {},
   "source": [
    "### IV. Saving the JSON File\n",
    "\n",
    "Now that we've collected and organized all the metadata into Python dictionaries, we can convert metadata_dict to a JSON file and save it."
   ]
  },
  {
   "cell_type": "code",
   "execution_count": null,
   "metadata": {},
   "outputs": [],
   "source": [
    "with open(os.path.join(data_directory, f\"items_metadata.json\"), \"w\") as f:\n",
    "    json.dump(metadata_dict, f, indent=4)"
   ]
  },
  {
   "cell_type": "markdown",
   "metadata": {},
   "source": [
    "The process is complete!"
   ]
  }
 ],
 "metadata": {
  "kernelspec": {
   "display_name": "Python (LOC)",
   "language": "python",
   "name": "loc-env"
  },
  "language_info": {
   "codemirror_mode": {
    "name": "ipython",
    "version": 3
   },
   "file_extension": ".py",
   "mimetype": "text/x-python",
   "name": "python",
   "nbconvert_exporter": "python",
   "pygments_lexer": "ipython3",
   "version": "3.9.16"
  }
 },
 "nbformat": 4,
 "nbformat_minor": 2
}
