{
 "cells": [
  {
   "cell_type": "code",
   "execution_count": null,
   "metadata": {},
   "outputs": [],
   "source": [
    "#"
   ]
  },
  {
   "cell_type": "markdown",
   "metadata": {},
   "source": [
    "Combination of the object detection and segmentation. Would output the masks and the 'cutouts'\n",
    "\n",
    "* Original image as a thumbnail -- (480 on the longest side as jpegs)\n",
    "* Output the individual cutouts as png (include, label in filename: image_{resource_id}_{object_name}_{instance__#} )\n",
    "    * Normal the sizes of the individual cutouts (max_size= 480, on the longest side )\n",
    "* Thumbnails of the binary masks: (include, label in filename: mask_{resource_id}_{object_name}_{instance__#} )\n",
    "* Output the bounding box information -- JSON output (include, label in filename: image_{resource_id}_{object_name}_{instance__#}.JSON )\n",
    "    * Including the four coordinates (Normalized 0-1)\n",
    "\n",
    "Note: the outputs will be directed into the UI folders.\n"
   ]
  }
 ],
 "metadata": {
  "language_info": {
   "name": "python"
  }
 },
 "nbformat": 4,
 "nbformat_minor": 2
}
