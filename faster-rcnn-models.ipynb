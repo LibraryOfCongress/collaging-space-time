{
 "cells": [
  {
   "cell_type": "code",
   "execution_count": null,
   "metadata": {},
   "outputs": [],
   "source": [
    "import requests\n",
    "import csv\n",
    "from PIL import Image\n",
    "from io import BytesIO\n",
    "import os\n",
    "import os.path\n",
    "import uuid"
   ]
  },
  {
   "cell_type": "code",
   "execution_count": null,
   "metadata": {},
   "outputs": [],
   "source": [
    "# image detection imports\n",
    "from torchvision.io.image import read_image\n",
    "\n",
    "# Explore the torchvision documentation to apply the other models and their weights\n",
    "from torchvision.models.detection import (\n",
    "    fasterrcnn_resnet50_fpn_v2,\n",
    "    FasterRCNN_ResNet50_FPN_V2_Weights,\n",
    ")\n",
    "from torchvision.utils import draw_bounding_boxes\n",
    "from torchvision.transforms.functional import to_pil_image\n",
    "from IPython.display import display"
   ]
  },
  {
   "cell_type": "code",
   "execution_count": null,
   "metadata": {},
   "outputs": [],
   "source": [
    "package_1 = \"./digitized-books/sample-data/metadata.csv\"\n",
    "package_2 = \"./ftu/sample-data/metadata.csv\"\n",
    "package_3 = \"./full-ftu-metadata.csv\""
   ]
  },
  {
   "cell_type": "code",
   "execution_count": null,
   "metadata": {},
   "outputs": [],
   "source": [
    "with open(package_3, 'r') as metadata:\n",
    "    items = metadata.read()\n",
    "    print(items)\n",
    "    # print(items)"
   ]
  },
  {
   "cell_type": "code",
   "execution_count": null,
   "metadata": {},
   "outputs": [],
   "source": [
    "def read_csv(file, encoding='utf-8'):\n",
    "    with open(file, 'r', encoding=encoding) as metadata:\n",
    "        data = [] #will create a list of lists\n",
    "        item = csv.reader(metadata)\n",
    "        for item_row_data in item:\n",
    "            data.append(item_row_data)\n",
    "        return data #output will be a lit of lists and data will show up in []"
   ]
  },
  {
   "cell_type": "code",
   "execution_count": null,
   "metadata": {},
   "outputs": [],
   "source": [
    "# def main():\n",
    "first_test = read_csv(package_3)\n",
    "\n",
    "#LIST EVERY ROW\n",
    "for item in first_test:\n",
    "    print(item) #indexing will refer to column item in every row since the rows are \"pulled\" from the data list\n",
    "# print(first_test[2])\n",
    "\n",
    "# if __name__ == '__main__':\n",
    "#     main()"
   ]
  },
  {
   "cell_type": "code",
   "execution_count": null,
   "metadata": {},
   "outputs": [],
   "source": [
    "#PRINT ONLY THE ROW I WANT\n",
    "print(first_test[2])\n",
    "# print(item)"
   ]
  },
  {
   "cell_type": "code",
   "execution_count": null,
   "metadata": {},
   "outputs": [],
   "source": [
    "for heading in first_test[0]:\n",
    "    print(heading)"
   ]
  },
  {
   "cell_type": "code",
   "execution_count": null,
   "metadata": {},
   "outputs": [],
   "source": [
    "x = first_test[0]\n",
    "y = x.index('Preview_url')\n",
    "print(y)\n"
   ]
  },
  {
   "cell_type": "code",
   "execution_count": null,
   "metadata": {},
   "outputs": [],
   "source": [
    "for set in first_test:\n",
    "    print(set[9])"
   ]
  },
  {
   "cell_type": "code",
   "execution_count": null,
   "metadata": {},
   "outputs": [],
   "source": [
    "# filter by heading\n",
    "# for loop --> print out one column from each row in CSV\n",
    "# No loop --> print out specific indexed row\n",
    "count = 0\n",
    "main_streets = []\n",
    "for item in first_test:\n",
    "    if 'Main' in item[5]:\n",
    "        main_streets.append(item)\n",
    "        count += 1\n",
    "main_streets.insert(0, first_test[0])\n",
    "\n",
    "for street in main_streets:\n",
    "    print(street)\n",
    "\n",
    "# for street in main_streets:\n",
    "#     count + 1\n",
    "print(count)\n",
    "# for item in first_test:\n",
    "#     if 'African' in item[5]:\n",
    "#         print(item)"
   ]
  },
  {
   "cell_type": "code",
   "execution_count": null,
   "metadata": {},
   "outputs": [],
   "source": [
    "urls_to_image = []\n",
    "for set in main_streets:\n",
    "    urls_to_image.append(set[9])\n",
    "\n",
    "# for url in urls_to_image:\n",
    "#     print(url)\n",
    "count_all = 0\n",
    "count_1 = 0\n",
    "\n",
    "urls_of_one = []\n",
    "all_urls = []\n",
    "jpg_urls = []\n",
    "for url in urls_to_image:\n",
    "    jpg_urls.append(url.split(' | '))\n",
    "    # jpg_urls.append(url.replace('|', ''))\n",
    "# print(jpg_urls)\n",
    "\n",
    "for url in jpg_urls[1:]:\n",
    "    try:\n",
    "        if len(url) >= 1:\n",
    "            all_urls.append(url[2])\n",
    "            count_all += 1\n",
    "    except:\n",
    "        if len(url) == 1:\n",
    "            urls_of_one.append(url[0]) #without index 0, this line was adding whole list\n",
    "            count_1 += 1\n",
    "\n",
    "# for x in urls_of_one:\n",
    "#     print(x)\n",
    "\n",
    "# for y in all_urls:\n",
    "#     print(y)\n",
    "\n",
    "# print(jpg_urls[1][2])\n"
   ]
  },
  {
   "cell_type": "code",
   "execution_count": null,
   "metadata": {},
   "outputs": [],
   "source": [
    "print(count_all)\n",
    "print(count_1)"
   ]
  },
  {
   "cell_type": "code",
   "execution_count": null,
   "metadata": {},
   "outputs": [],
   "source": [
    "# organize into csv with relevant metadata\n",
    "# get requests\n",
    "# integrate into Aisaiah's script\n",
    "# count_everything = 0\n",
    "\n",
    "for x in urls_of_one:\n",
    "    all_urls.append(x)\n",
    "\n",
    "# print(all_urls)\n",
    "for y in all_urls:\n",
    "    print(y)\n",
    "#     count_everything += 1\n",
    "# print(count_everything)"
   ]
  },
  {
   "cell_type": "code",
   "execution_count": null,
   "metadata": {},
   "outputs": [],
   "source": [
    "# errors = 0\n",
    "# working_links = []\n",
    "\n",
    "# for url in all_urls:\n",
    "#     try:\n",
    "#         image_to_detect = requests.get(url)\n",
    "#         print(image_to_detect)\n",
    "#         working_links.append(url)\n",
    "#     except:\n",
    "#         print('error')\n",
    "#         errors += 1\n",
    "# #     print(url)\n",
    "# # print(all_urls[0])\n",
    "# # test = requests.get(all_urls[0])\n",
    "# # print(test)\n",
    "# print(errors)"
   ]
  },
  {
   "cell_type": "code",
   "execution_count": null,
   "metadata": {},
   "outputs": [],
   "source": [
    "# for link in working_links:\n",
    "#     print(link)"
   ]
  },
  {
   "cell_type": "code",
   "execution_count": null,
   "metadata": {},
   "outputs": [],
   "source": [
    "os.getcwd()"
   ]
  },
  {
   "cell_type": "code",
   "execution_count": null,
   "metadata": {},
   "outputs": [],
   "source": [
    "os.mkdir('ftu-mainStreet-images')"
   ]
  },
  {
   "cell_type": "code",
   "execution_count": null,
   "metadata": {},
   "outputs": [],
   "source": [
    "# images = []\n",
    "for index, image in enumerate(all_urls): #what does enumerate do? index here helps to increment the file names.\n",
    "        print(image)\n",
    "    # try:\n",
    "        image_to_detect = requests.get(image)\n",
    "        # break #tried strip() method; got error\n",
    "        # if image_to_detect.status_code == 200:\n",
    "        \n",
    "    # print(image)\n",
    "        image_filename = f\"ftu-mainStreet-images/image_{index + 1}.jpg\"\n",
    "        img_bytes_io = BytesIO(image_to_detect.content)\n",
    "        converted_file = Image.open(img_bytes_io).convert('RGB').save(image_filename) #replacing last image in loop; how to stop?\n",
    "        # images.append(converted_file)\n",
    "    # img_bytes_io = Image.open(BytesIO(image_to_detect.content))\n",
    "        # images.append(img_bytes_io)\n",
    "    # for i in img_bytes_io:\n",
    "    # if os.path.isfile(f'/Users/shauna-kayharrison/Desktop/LAB/starter-tests/ftu-mainStreet-images/{image}'):\n",
    "    #         image=str(uuid.uuid4())\n",
    "    # with Image.open(img_bytes_io) as img:\n",
    "        # if open_file.mode != 'RGB':\n",
    "        #     img = open_file.convert('RGB')\n",
    "    # open_file.save(image_filename)\n",
    "\n",
    "# ?\n",
    "# for thing in images:\n",
    "# #     # print(type(thing))\n",
    "#     thing.save(image_filename) #replacing last image in loop; how to stop?\n",
    "\n",
    "# for img in images:\n",
    "#     x = read_image(img)\n",
    "#     weights = FasterRCNN_ResNet50_FPN_V2_Weights.DEFAULT\n",
    "#     model = fasterrcnn_resnet50_fpn_v2(weights=weights, box_score_thresh=0.9)\n",
    "#     model.eval()\n",
    "\n",
    "# # Step 2: Initialize the inference transforms\n",
    "#     preprocess = weights.transforms()\n",
    "\n",
    "# # Step 3: Apply inference preprocessing transforms\n",
    "#     batch = [preprocess(x)]\n",
    "\n",
    "# # Step 4: Use the model and visualize the prediction\n",
    "#     prediction = model(batch)[0]\n",
    "#     labels = [weights.meta[\"categories\"][i] for i in prediction[\"labels\"]]\n",
    "#     box = draw_bounding_boxes(\n",
    "#     x, boxes=prediction[\"boxes\"], labels=labels, colors=\"red\", width=4, font_size=30\n",
    "# )\n",
    "#     im = to_pil_image(box.detach())\n",
    "# # im.show()\n",
    "\n",
    "# # Displays the Image\n",
    "#     display(im)\n",
    "    # except:\n",
    "    #     print('error')\n"
   ]
  },
  {
   "cell_type": "code",
   "execution_count": null,
   "metadata": {},
   "outputs": [],
   "source": [
    "# iterate through directory and run model code on images\n",
    "image_dir = './ftu-mainStreet-images'\n",
    "\n",
    "for image in os.listdir(image_dir):\n",
    "    f = os.path.join(image_dir, image)\n",
    "    if os.path.isfile(f):\n",
    "        if '.DS' not in f:\n",
    "        # print(f)\n",
    "            x = read_image(f)\n",
    "            weights = FasterRCNN_ResNet50_FPN_V2_Weights.DEFAULT\n",
    "            model = fasterrcnn_resnet50_fpn_v2(weights=weights, box_score_thresh=0.9)\n",
    "            model.eval()\n",
    "\n",
    "# # Step 2: Initialize the inference transforms\n",
    "            preprocess = weights.transforms()\n",
    "\n",
    "# # Step 3: Apply inference preprocessing transforms\n",
    "            batch = [preprocess(x)]\n",
    "\n",
    "# # Step 4: Use the model and visualize the prediction\n",
    "            prediction = model(batch)[0]\n",
    "            labels = [weights.meta[\"categories\"][i] for i in prediction[\"labels\"]]\n",
    "            box = draw_bounding_boxes(\n",
    "            x, boxes=prediction[\"boxes\"], labels=labels, colors=\"red\", width=4, font_size=30\n",
    "        )\n",
    "            im = to_pil_image(box.detach())\n",
    "            im.show()\n",
    "\n",
    "# # Displays the Image\n",
    "            display(im)\n",
    "    # except:\n",
    "    #     print('error')"
   ]
  }
 ],
 "metadata": {
  "kernelspec": {
   "display_name": "Python 3",
   "language": "python",
   "name": "python3"
  },
  "language_info": {
   "codemirror_mode": {
    "name": "ipython",
    "version": 3
   },
   "file_extension": ".py",
   "mimetype": "text/x-python",
   "name": "python",
   "nbconvert_exporter": "python",
   "pygments_lexer": "ipython3",
   "version": "3.12.3"
  }
 },
 "nbformat": 4,
 "nbformat_minor": 2
}
