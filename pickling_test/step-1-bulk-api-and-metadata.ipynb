{
 "cells": [
  {
   "cell_type": "markdown",
   "metadata": {},
   "source": [
    "# I. Import Models and Libraries From \"helper.ipynb\"\n",
    "\n",
    "Before we get started, let's import some libraries and modules that that are specific to this step in the workflow. We'll also import the libraries and modules important to the overall process from workflow_helpers.py."
   ]
  },
  {
   "cell_type": "code",
   "execution_count": 135,
   "metadata": {},
   "outputs": [],
   "source": [
    "\n",
    "\"\"\"general imports\"\"\"\n",
    "from PIL import Image\n",
    "from io import BytesIO\n",
    "\n",
    "\"\"\"import functions from helper.py\"\"\"\n",
    "from workflow_helpers import *"
   ]
  },
  {
   "cell_type": "markdown",
   "metadata": {},
   "source": [
    "# Load in Collection CSV and Access Collection Links"
   ]
  },
  {
   "cell_type": "markdown",
   "metadata": {},
   "source": [
    "In this step, we'll assign the filepath of the collection data we want to work with to a variable. For simplicity, we;ll call this variable \"file\"."
   ]
  },
  {
   "cell_type": "code",
   "execution_count": 136,
   "metadata": {},
   "outputs": [],
   "source": [
    "file = \"jfp-collections-starter-collections.csv\""
   ]
  },
  {
   "cell_type": "markdown",
   "metadata": {},
   "source": [
    "Use the imported read_in_collection_csv_for_links() function from workflow_helpers.py to read in the CSV.\n",
    "\n",
    "Please note that you may use any data storage format that you are comfortable with, such as JSON. However, our helper function is written based on the data storage format that our team is most likely to start with."
   ]
  },
  {
   "cell_type": "code",
   "execution_count": 137,
   "metadata": {},
   "outputs": [],
   "source": [
    "collection = read_in_collection_csv_for_links(file)"
   ]
  },
  {
   "cell_type": "markdown",
   "metadata": {},
   "source": [
    "Now that we've read in the CSV, we can manipulate the data to extract the links of the Library's collections that we want to work with.\n",
    "\n",
    "Let's iterate through the data to become familar with it, verify that it is in a format we can work with, and that it has all the information we expect.\n",
    "\n",
    "If your collection data is larger than what we have here, you can limit the output from the collection by tweaking our code as shown below, where 'n' is the number of items you want to return from the collection list:\n",
    "\n",
    "```\n",
    "\n",
    "for row in collection[:n]:\n",
    "    print(row)\n",
    "\n",
    "```"
   ]
  },
  {
   "cell_type": "code",
   "execution_count": 138,
   "metadata": {},
   "outputs": [
    {
     "name": "stdout",
     "output_type": "stream",
     "text": [
      "['\\ufeffCollection Name', 'Collection Link', 'Notes', 'Objects of Interest']\n",
      "['National Photo Company Collection', 'https://www.loc.gov/collections/national-photo-company/', 'Filter by restriction: \"right_information\" and \"rights_advisory\"', 'People, Animals, Landmarks, Vehicles']\n",
      "['Highsmith (Carol M.) Archive', 'https://www.loc.gov/collections/carol-m-highsmith/', 'Would need to be filtered by place since it captures projects outside of D.C. Given how Highsmith organized/labeled these images, we could (for the most part) safely do a \"if D.C. in XXX:\" from the \"subject_headings\" field or \"title\" field (the latter seems easier as it\\'s less nested).\\n\\nFilter by restriction: \"right_information\" and \"rights_advisory\"', 'Landscape, Landmarks, Roads']\n",
      "['Free to Use', 'https://www.loc.gov/free-to-use/', 'Filter for D.C. by \"title\" and \"subhect_headings\"\\nFilter by restriction: \"right_information\" and \"rights_advisory\"\\n\\n', 'Animals, People']\n"
     ]
    }
   ],
   "source": [
    "for row in collection:\n",
    "    print(row)"
   ]
  },
  {
   "cell_type": "markdown",
   "metadata": {},
   "source": [
    "Now that we're familiar with the collection data, let's use indexing to access the collection URL in each  row. We'll assign these links to a list variable called \"collection_links.\"\n",
    "\n",
    "To append each link without the CSV header, we'll iterate through our \"collection\" list variable from row 1, where row 0 is the header row."
   ]
  },
  {
   "cell_type": "code",
   "execution_count": 139,
   "metadata": {},
   "outputs": [],
   "source": [
    "collection_links = []\n",
    "\n",
    "for link in collection[1:]:\n",
    "    collection_links.append(link[1])\n"
   ]
  },
  {
   "cell_type": "markdown",
   "metadata": {},
   "source": [
    "### Do some test prints to test the data structure.\n",
    "\n",
    "Now that we have the links stored in \"collection_links,\" let's do a test print to verify that we're getting the information we want."
   ]
  },
  {
   "cell_type": "code",
   "execution_count": 140,
   "metadata": {},
   "outputs": [
    {
     "name": "stdout",
     "output_type": "stream",
     "text": [
      "https://www.loc.gov/collections/national-photo-company/\n",
      "https://www.loc.gov/collections/carol-m-highsmith/\n",
      "https://www.loc.gov/free-to-use/\n"
     ]
    }
   ],
   "source": [
    "\"\"\"Keep in mind the actual data structure: a list of strings...\"\"\"\n",
    "# print(collection_links)\n",
    "\n",
    "\"\"\"but, for easier viewing:\"\"\"\n",
    "for link in collection_links:\n",
    "    print(link)"
   ]
  },
  {
   "cell_type": "markdown",
   "metadata": {},
   "source": [
    "Now that the data structure is tested and verified, use the access_and_store_json() function from workflow_helpers.py to loop through the \"collection_links\" variable and access the Library's API. Load this data as a JSON and store it in a variable for easy access and reuse."
   ]
  },
  {
   "cell_type": "code",
   "execution_count": 143,
   "metadata": {},
   "outputs": [
    {
     "data": {
      "text/plain": [
       "'Do test print to verify data structure. The output will be a list of dictionaries.'"
      ]
     },
     "execution_count": 143,
     "metadata": {},
     "output_type": "execute_result"
    }
   ],
   "source": [
    "json_response = []\n",
    "\n",
    "# for collection in collection_links[:2]:\n",
    "json = access_and_store_json(collection_links[2])\n",
    "json_response.append(json)\n",
    "\n",
    "\"\"\"Do test print to verify data structure. The output will be a list of dictionaries.\"\"\"\n",
    "        # print(json)"
   ]
  },
  {
   "cell_type": "markdown",
   "metadata": {},
   "source": [
    "From the previous test print, we can see that the data structure for collections with alt-text and collections without alt-text vary, so we will need to account for this as we access the image_urls for download.\n",
    "\n",
    "Let's test the data structure of the JSON response by accessing it's keys to get started."
   ]
  },
  {
   "cell_type": "code",
   "execution_count": 144,
   "metadata": {},
   "outputs": [
    {
     "name": "stdout",
     "output_type": "stream",
     "text": [
      "dict_keys(['breadcrumbs', 'content', 'content_is_post', 'description', 'expert_resources', 'next', 'next_sibling', 'options', 'pages', 'portal', 'previous', 'previous_sibling', 'site_type', 'timestamp', 'title', 'type'])\n"
     ]
    }
   ],
   "source": [
    "for key in json_response:\n",
    "    print(key.keys())"
   ]
  },
  {
   "cell_type": "markdown",
   "metadata": {},
   "source": [
    "The Free to Use and Reuse collection is specifically curated and has alt-text, whereas most other Library collections do not.\n",
    "\n",
    "As such, we cannot access the image URLs in the same way. We need to find a way to separate collections with alt-text and those without, and store their JSON responses into separate variables.\n",
    "\n",
    "There are many ways to do this at scale, but some customization will be needed regardless.\n",
    "\n",
    "We opted to sort the collection via key lookup, using ``` ['site_type'] ``` as a way to sort the collections since only one of these collections have alt-text."
   ]
  },
  {
   "cell_type": "code",
   "execution_count": 154,
   "metadata": {},
   "outputs": [
    {
     "name": "stdout",
     "output_type": "stream",
     "text": [
      "try again\n"
     ]
    }
   ],
   "source": [
    "\"\"\"Store json data with alt-text field.\"\"\"\n",
    "alt_json = []\n",
    "\n",
    "\"\"\"Store json data without alt-text field.\"\"\"\n",
    "no_alt_json = []\n",
    "\n",
    "# for link in collection_links[2]:\n",
    "try:\n",
    "    response = access_and_store_json(link)\n",
    "    if response[\"site_type\"] == \"collections\":\n",
    "        no_alt_json.append(response)\n",
    "    elif response[\"site_type\"] == \"free-to-use\":\n",
    "        alt_json.append(response)\n",
    "except:\n",
    "    print('try again')\n",
    "\n",
    "\"\"\"You can some test prints here to verify that the information was sorted and appended according to\n",
    "your expectations.\"\"\"\n",
    "for x in alt_json:\n",
    "    print(x)\n",
    "\n",
    "for y in no_alt_json:\n",
    "    print(y)"
   ]
  },
  {
   "cell_type": "markdown",
   "metadata": {},
   "source": [
    "Now that we've found a way to seperate the different data structures, let's initialize the list that we'll be storing the links from each collection."
   ]
  },
  {
   "cell_type": "code",
   "execution_count": 146,
   "metadata": {},
   "outputs": [],
   "source": [
    "urls = []"
   ]
  },
  {
   "cell_type": "markdown",
   "metadata": {},
   "source": [
    "Let's write a script that captures the image URL from each data structure and assign it to a variable.\n",
    "\n",
    "Let's start by getting the image URLs from the \"alt_json\" data, which necessitates a more legnthy and custom script.\n",
    "\n",
    "Unlike the collections in \"no_alt_json\" which has the downloadable image URL listed, we must perform multiple iterations on the collection in \"alt_json.\" In other words, we must perform multiple get requests."
   ]
  },
  {
   "cell_type": "code",
   "execution_count": 155,
   "metadata": {},
   "outputs": [],
   "source": [
    "\"\"\"A list of fully formatted urls, with root and JSON filter applied.\"\"\"\n",
    "formatted_links = []\n",
    "\n",
    "\n",
    "for collection_data in alt_json:\n",
    "    results = collection_data['pages']\n",
    "    for result in results:\n",
    "        get_children = result['children'][1:]\n",
    "        for group in get_children:\n",
    "            set = group['set']['items']\n",
    "            for item in set:\n",
    "                link = item['link']\n",
    "                root = 'https://www.loc.gov'\n",
    "                if 'https://' not in link:\n",
    "                    partially_formatted_link = root + link\n",
    "                    if '?' not in partially_formatted_link:\n",
    "                        x = partially_formatted_link + '?fo=json'\n",
    "                        formatted_links.append(x)\n",
    "                    elif '?' in partially_formatted_link:\n",
    "                        \"\"\"Image URL may already have a filter, so we need to append the JSON filter to a existing filter.\"\"\"\n",
    "                        x =  partially_formatted_link + '&fo=json'\n",
    "                        formatted_links.append(x)\n",
    "                else:\n",
    "                    continue"
   ]
  },
  {
   "cell_type": "code",
   "execution_count": 156,
   "metadata": {},
   "outputs": [
    {
     "name": "stdout",
     "output_type": "stream",
     "text": [
      "0\n"
     ]
    }
   ],
   "source": [
    "print(len(formatted_links))"
   ]
  },
  {
   "cell_type": "code",
   "execution_count": 45,
   "metadata": {},
   "outputs": [],
   "source": [
    "# import pickle\n",
    "\n",
    "# class PickledResponse:\n",
    "#     def __init__(self, resource_id, title, url, subject_list, date, contributor_names, locations, collection_name, alt_text=None, collection_set=None):\n",
    "#         self.dict = {\n",
    "#             f'image_{resource_id}.jpg': {\n",
    "#                 'resource_id': resource_id,\n",
    "#                 'title': title,\n",
    "#                 'url': url,\n",
    "#                 'subject_list': subject_list,\n",
    "#                 'date': date,\n",
    "#                 'alt_text': alt_text,\n",
    "#                 'contributor_names': contributor_names,\n",
    "#                 'locations': locations,\n",
    "#                 'collection_name': collection_name,\n",
    "#                 'set': collection_set\n",
    "#             }\n",
    "#         }\n",
    "\n",
    "\n",
    "#     def save_to_file(self, filename):\n",
    "#         filename = os.path.join('response_pickles', filename)\n",
    "#         with open(filename, 'wb') as file:\n",
    "#             pickle.dump(self, file)\n",
    "\n",
    "#     @staticmethod\n",
    "#     def load_from_file(filename):\n",
    "#         filename = os.path.join('response_pickles', filename)\n",
    "#         with open(filename, 'rb') as file:\n",
    "#             return pickle.load(file)\n"
   ]
  },
  {
   "cell_type": "code",
   "execution_count": 151,
   "metadata": {},
   "outputs": [
    {
     "name": "stdout",
     "output_type": "stream",
     "text": [
      "Resting in compliance with Rate limits 10\n",
      "Resting in compliance with Rate limits 20\n",
      "Resting in compliance with Rate limits 30\n",
      "Resting in compliance with Rate limits 40\n",
      "Resting in compliance with Rate limits 50\n",
      "Resting in compliance with Rate limits 60\n",
      "Resting in compliance with Rate limits 70\n",
      "Resting in compliance with Rate limits 80\n",
      "Resting in compliance with Rate limits 90\n"
     ]
    }
   ],
   "source": [
    "from time import sleep\n",
    "def main_dict(url, main_dictionary):\n",
    "    try: \n",
    "        json_results = request_link(url)\n",
    "        item_data = json_results['item']['item']\n",
    "        rights = json_results['item']['item'].get('rights_advisory', None)\n",
    "\n",
    "        if rights == None:\n",
    "            pass\n",
    "\n",
    "        else:\n",
    "\n",
    "            if 'No known restrictions' in json_results['item']['item']['rights_advisory'] or 'No known restrictions' in json_results['item']['item']['rights_information']:\n",
    "                if 'D.C.' or 'District of Columbia' in json_results['item']['item']['title'] or json_results['item']['item']['location']:\n",
    "                    image_url = json_results['item']['image_url'][-1]\n",
    "                    title = item_data['title']\n",
    "                    resource_id = item_data['id']\n",
    "                    subjects = item_data.get('Subject', 'None') \n",
    "                    date = item_data.get('date', 'None')  # Need to specify the creation date type\n",
    "                    locations = json_results.get('locations', 'None') \n",
    "                    contributors = item_data.get('contributors', 'None') \n",
    "                    collection_name = item_data.get('source_collection', 'None') \n",
    "\n",
    "                    # Cannot find set or alt_text, setting as 'None'\n",
    "                    main_dictionary[f'image_{resource_id}.jpg'] = {\n",
    "                        'resource_id': resource_id,\n",
    "                        'title': title,\n",
    "                        'url': url,\n",
    "                        'image_url': image_url,\n",
    "                        'subject_list': subjects,\n",
    "                        'date': date,\n",
    "                        'alt_text': 'None',\n",
    "                        'contributor_names': contributors,\n",
    "                        'locations': locations,\n",
    "                        'collection_name': collection_name,\n",
    "                        'set': 'None'\n",
    "                    }\n",
    "    except Exception as e:\n",
    "        return\n",
    "\n",
    "\n",
    "image_metadata = {}\n",
    "\n",
    "for i,link in enumerate(formatted_links[:100]):\n",
    "    if i%10 == 0 and i != 0:\n",
    "        print('Resting in compliance with Rate limits', i)\n",
    "        sleep(10)\n",
    "    main_dict(link, image_metadata)"
   ]
  },
  {
   "cell_type": "code",
   "execution_count": 152,
   "metadata": {},
   "outputs": [
    {
     "name": "stdout",
     "output_type": "stream",
     "text": [
      "49\n"
     ]
    }
   ],
   "source": [
    "print(len(image_metadata))"
   ]
  },
  {
   "cell_type": "code",
   "execution_count": null,
   "metadata": {},
   "outputs": [],
   "source": [
    "# object_1 = PickledResponse(resource_id,title,image_url,subjects,date,contributors,locations,collection_name)\n",
    "# object_1.load_from_file('pickle_1.bin').dict"
   ]
  },
  {
   "cell_type": "code",
   "execution_count": 153,
   "metadata": {},
   "outputs": [],
   "source": [
    "import json\n",
    "with open('request_sample_bulk', 'w') as json_file:\n",
    "    json.dump(image_metadata, json_file)"
   ]
  },
  {
   "cell_type": "code",
   "execution_count": null,
   "metadata": {},
   "outputs": [],
   "source": [
    "\n",
    "for image in formatted_links[:20]:\n",
    "    \"\"\"Limit the data returned for faster processing.\"\"\"\n",
    "\n",
    "    try:\n",
    "        json_results = request_link(image)\n",
    "        \"\"\"Filter by Washington, D.C. and images that can be freely distributed and used.\"\"\"\n",
    "\n",
    "        if 'No known restrictions' in json_results['item']['item']['rights_advisory'] and json_results['item']['item']['rights_information']:\n",
    "            if 'D.C.' or 'District of Columbia' in json_results['item']['item']['title'] or json_results['item']['item']['location']:\n",
    "                results = json_results['item']['image_url'][-1]\n",
    "                \"\"\"Note that [-1] here allows us to get the highest image resolution at all times.\n",
    "                The amount of options for image resolution varies. The Library for consistently puts the\n",
    "                highest resolution at the end of the list.\"\"\"\n",
    "\n",
    "                urls.append(results)\n",
    "    except:\n",
    "        error_links.append(results)"
   ]
  },
  {
   "cell_type": "markdown",
   "metadata": {},
   "source": [
    "Now, let's write a script to get the URL from the \"no_alt_json\" data. This script will be more straightforward and scalable."
   ]
  },
  {
   "cell_type": "code",
   "execution_count": 102,
   "metadata": {},
   "outputs": [],
   "source": [
    "for collection_data in no_alt_json:\n",
    "    results = collection_data['content']['results']\n",
    "    for result in results[:20]:\n",
    "        \"\"\"Limit the data returned for faster processing.\"\"\"\n",
    "\n",
    "        \"\"\"Filter by Washington, D.C. and images that can be freely distributed and used.\"\"\"\n",
    "        if 'No Known restrictions' in result['item']['rights_advisory'] or result['item']['rights_information']:\n",
    "            if 'D.C.' or 'District of Columbia' in result['item']['title'] or result['item']['notes'][:]:\n",
    "                image_url = result['image_url'][-1]\n",
    "                \"\"\"Note that [-1] here allows us to get the highest image resolution at all times.\n",
    "                The amount of options for image resolution varies. The Library for consistently puts the\n",
    "                highest resolution at the end of the list.\"\"\"\n",
    "\n",
    "                urls.append(image_url)"
   ]
  },
  {
   "cell_type": "markdown",
   "metadata": {},
   "source": [
    "Now, let's verify that the \"urls\" variable has the information we want."
   ]
  },
  {
   "cell_type": "code",
   "execution_count": 103,
   "metadata": {},
   "outputs": [
    {
     "name": "stdout",
     "output_type": "stream",
     "text": [
      "https://tile.loc.gov/image-services/iiif/service:pnp:highsm:36200:36247/full/pct:50/0/default.jpg#h=2812&w=2450\n",
      "https://tile.loc.gov/storage-services/service/pnp/ppmsca/34500/34513v.jpg#h=1024&w=628\n",
      "https://tile.loc.gov/storage-services/service/pnp/pga/01600/01637v.jpg#h=693&w=1024\n",
      "https://tile.loc.gov/image-services/iiif/service:pnp:highsm:12600:12695/full/pct:50/0/default.jpg#h=2145&w=1710\n",
      "https://tile.loc.gov/image-services/iiif/service:pnp:highsm:36500:36524/full/pct:25/0/default.jpg#h=1448&w=2172\n"
     ]
    }
   ],
   "source": [
    "for x in urls[:5]:\n",
    "    print(x)"
   ]
  },
  {
   "cell_type": "markdown",
   "metadata": {},
   "source": [
    "Before we continue, let's create a folder to store the images after we download them."
   ]
  },
  {
   "cell_type": "code",
   "execution_count": 104,
   "metadata": {},
   "outputs": [],
   "source": [
    "if not os.path.exists('image-collection-output'):\n",
    "    os.mkdir('image-collection-output')"
   ]
  },
  {
   "cell_type": "markdown",
   "metadata": {},
   "source": [
    "Now, let's download the images."
   ]
  },
  {
   "cell_type": "code",
   "execution_count": 105,
   "metadata": {},
   "outputs": [
    {
     "name": "stdout",
     "output_type": "stream",
     "text": [
      "https://tile.loc.gov/image-services/iiif/service:pnp:highsm:36200:36247/full/pct:50/0/default.jpg#h=2812&w=2450\n",
      "https://tile.loc.gov/storage-services/service/pnp/ppmsca/34500/34513v.jpg#h=1024&w=628\n",
      "https://tile.loc.gov/storage-services/service/pnp/pga/01600/01637v.jpg#h=693&w=1024\n",
      "https://tile.loc.gov/image-services/iiif/service:pnp:highsm:12600:12695/full/pct:50/0/default.jpg#h=2145&w=1710\n",
      "https://tile.loc.gov/image-services/iiif/service:pnp:highsm:36500:36524/full/pct:25/0/default.jpg#h=1448&w=2172\n",
      "https://tile.loc.gov/storage-services/service/pnp/highsm/55500/55524v.jpg#h=683&w=1024\n",
      "https://tile.loc.gov/storage-services/service/pnp/ppmsca/85300/85335v.jpg#h=996&w=1024\n",
      "https://tile.loc.gov/storage-services/service/pnp/ppmsca/85600/85616v.jpg#h=832&w=1024\n",
      "https://tile.loc.gov/storage-services/service/pnp/highsm/56800/56807v.jpg#h=683&w=1024\n",
      "https://tile.loc.gov/storage-services/service/pnp/ppmsca/13400/13482v.jpg#h=1024&w=699\n",
      "https://tile.loc.gov/storage-services/service/pnp/ppmsc/00100/00133v.jpg#h=1024&w=716\n",
      "https://tile.loc.gov/storage-services/service/pnp/highsm/67100/67160v.jpg#h=1024&w=623\n",
      "https://tile.loc.gov/image-services/iiif/service:pnp:highsm:42500:42516/full/pct:25/0/default.jpg#h=1120&w=1680\n",
      "https://tile.loc.gov/storage-services/service/pnp/npcc/33300/33373v.jpg#h=773&w=1024\n",
      "https://tile.loc.gov/image-services/iiif/service:pnp:highsm:13200:13291/full/pct:50/0/default.jpg#h=1717&w=2172\n",
      "https://tile.loc.gov/storage-services/service/pnp/highsm/63400/63459v.jpg#h=1024&w=897\n",
      "https://tile.loc.gov/storage-services/service/pnp/cph/3g00000/3g03000/3g03300/3g03352v.jpg#h=1024&w=815\n",
      "https://tile.loc.gov/storage-services/service/pnp/cph/3g00000/3g05000/3g05300/3g05315v.jpg#h=1024&w=825\n",
      "https://tile.loc.gov/storage-services/service/pnp/cph/3c00000/3c08000/3c08400/3c08418v.jpg#h=1024&w=810\n",
      "https://tile.loc.gov/storage-services/service/pnp/cph/3b10000/3b15000/3b15600/3b15683r.jpg#h=640&w=455\n",
      "https://tile.loc.gov/storage-services/service/pnp/cph/3b30000/3b31000/3b31700/3b31743r.jpg#h=640&w=528\n",
      "https://tile.loc.gov/storage-services/service/pnp/ds/00100/00151v.jpg#h=809&w=1024\n",
      "https://tile.loc.gov/storage-services/service/pnp/cph/3b10000/3b15000/3b15200/3b15291r.jpg#h=640&w=479\n",
      "https://tile.loc.gov/storage-services/service/pnp/cph/3b20000/3b29000/3b29700/3b29712r.jpg#h=640&w=494\n",
      "https://tile.loc.gov/storage-services/service/pnp/cph/3c20000/3c23000/3c23800/3c23839v.jpg#h=1024&w=845\n",
      "https://tile.loc.gov/storage-services/service/pnp/cph/3b30000/3b38000/3b38600/3b38633r.jpg#h=455&w=640\n",
      "https://tile.loc.gov/storage-services/service/pnp/cph/3b40000/3b42000/3b42900/3b42943r.jpg#h=477&w=640\n",
      "https://tile.loc.gov/storage-services/service/pnp/cph/3b10000/3b12000/3b12900/3b12967r.jpg#h=640&w=463\n",
      "https://tile.loc.gov/storage-services/service/pnp/cph/3c20000/3c20000/3c20100/3c20107v.jpg#h=1024&w=821\n",
      "https://tile.loc.gov/storage-services/service/pnp/cph/3b00000/3b00000/3b00400/3b00488r.jpg#h=520&w=640\n",
      "https://tile.loc.gov/storage-services/service/pnp/cph/3b30000/3b36000/3b36400/3b36447r.jpg#h=475&w=640\n",
      "https://tile.loc.gov/storage-services/service/pnp/cph/3b20000/3b20000/3b20200/3b20284r.jpg#h=640&w=516\n",
      "https://tile.loc.gov/storage-services/service/pnp/cph/3b20000/3b24000/3b24800/3b24884r.jpg#h=640&w=488\n",
      "https://tile.loc.gov/storage-services/service/pnp/cph/3b30000/3b38000/3b38600/3b38613r.jpg#h=640&w=474\n",
      "https://tile.loc.gov/storage-services/service/pnp/cph/3a50000/3a50000/3a50200/3a50290r.jpg#h=508&w=640\n",
      "https://tile.loc.gov/storage-services/service/pnp/cph/3a00000/3a01000/3a01400/3a01428r.jpg#h=470&w=640\n",
      "https://tile.loc.gov/storage-services/service/pnp/cph/3b20000/3b20000/3b20000/3b20064r.jpg#h=488&w=640\n",
      "https://tile.loc.gov/storage-services/service/pnp/cph/3b20000/3b20000/3b20000/3b20065r.jpg#h=495&w=640\n",
      "https://tile.loc.gov/image-services/iiif/service:pnp:highsm:30900:30946/full/pct:50/0/default.jpg#h=2989&w=2354\n",
      "https://tile.loc.gov/image-services/iiif/service:pnp:highsm:40800:40835/full/pct:25/0/default.jpg#h=1448&w=2172\n",
      "https://tile.loc.gov/image-services/iiif/service:pnp:highsm:40800:40836/full/pct:25/0/default.jpg#h=1358&w=2097\n",
      "https://tile.loc.gov/image-services/iiif/service:pnp:highsm:40800:40837/full/pct:25/0/default.jpg#h=1448&w=2172\n",
      "https://tile.loc.gov/image-services/iiif/service:pnp:highsm:40800:40838/full/pct:25/0/default.jpg#h=1448&w=2172\n",
      "https://tile.loc.gov/image-services/iiif/service:pnp:highsm:40800:40839/full/pct:25/0/default.jpg#h=1448&w=2172\n",
      "https://tile.loc.gov/image-services/iiif/service:pnp:highsm:40800:40840/full/pct:25/0/default.jpg#h=1448&w=2172\n",
      "https://tile.loc.gov/image-services/iiif/service:pnp:highsm:40800:40841/full/pct:25/0/default.jpg#h=1448&w=2172\n",
      "https://tile.loc.gov/image-services/iiif/service:pnp:highsm:40800:40842/full/pct:25/0/default.jpg#h=1400&w=2100\n",
      "https://tile.loc.gov/image-services/iiif/service:pnp:highsm:40800:40843/full/pct:25/0/default.jpg#h=1448&w=2172\n",
      "https://tile.loc.gov/image-services/iiif/service:pnp:highsm:40800:40844/full/pct:25/0/default.jpg#h=1448&w=2172\n",
      "https://tile.loc.gov/image-services/iiif/service:pnp:highsm:40800:40845/full/pct:25/0/default.jpg#h=1238&w=1857\n",
      "https://tile.loc.gov/image-services/iiif/service:pnp:highsm:40800:40846/full/pct:25/0/default.jpg#h=1355&w=2033\n",
      "https://tile.loc.gov/image-services/iiif/service:pnp:highsm:40800:40847/full/pct:25/0/default.jpg#h=1448&w=2172\n",
      "https://tile.loc.gov/image-services/iiif/service:pnp:highsm:40800:40848/full/pct:25/0/default.jpg#h=1448&w=2172\n",
      "https://tile.loc.gov/image-services/iiif/service:pnp:highsm:40800:40849/full/pct:25/0/default.jpg#h=1357&w=2036\n",
      "https://tile.loc.gov/image-services/iiif/service:pnp:highsm:40800:40850/full/pct:25/0/default.jpg#h=1316&w=1974\n",
      "https://tile.loc.gov/image-services/iiif/service:pnp:highsm:40800:40851/full/pct:25/0/default.jpg#h=1448&w=2172\n",
      "https://tile.loc.gov/image-services/iiif/service:pnp:highsm:40800:40852/full/pct:25/0/default.jpg#h=1448&w=2172\n",
      "https://tile.loc.gov/image-services/iiif/service:pnp:highsm:40800:40853/full/pct:25/0/default.jpg#h=1448&w=2172\n"
     ]
    }
   ],
   "source": [
    "for index, image in enumerate(urls):\n",
    "        try:\n",
    "                print(image)\n",
    "                image_to_detect = requests.get(image)\n",
    "                image_filename = f\"image-collection-output/image_{index + 1}.jpg\"\n",
    "                img_bytes_io = BytesIO(image_to_detect.content)\n",
    "                converted_file = Image.open(img_bytes_io).convert('RGB').save(image_filename)\n",
    "        except:\n",
    "                print(image)"
   ]
  }
 ],
 "metadata": {
  "kernelspec": {
   "display_name": "Python (LOC)",
   "language": "python",
   "name": "loc-env"
  },
  "language_info": {
   "codemirror_mode": {
    "name": "ipython",
    "version": 3
   },
   "file_extension": ".py",
   "mimetype": "text/x-python",
   "name": "python",
   "nbconvert_exporter": "python",
   "pygments_lexer": "ipython3",
   "version": "3.9.16"
  }
 },
 "nbformat": 4,
 "nbformat_minor": 2
}
