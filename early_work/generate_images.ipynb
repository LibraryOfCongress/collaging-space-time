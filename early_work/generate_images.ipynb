{
 "cells": [
  {
   "cell_type": "code",
   "execution_count": 27,
   "metadata": {},
   "outputs": [],
   "source": [
    "import io\n",
    "import pandas as pd                     # for reading, manipulating, and displaying data\n",
    "import requests\n",
    "from PIL import Image\n",
    "import os\n",
    "import math"
   ]
  },
  {
   "cell_type": "code",
   "execution_count": 28,
   "metadata": {},
   "outputs": [
    {
     "data": {
      "text/html": [
       "<div>\n",
       "<style scoped>\n",
       "    .dataframe tbody tr th:only-of-type {\n",
       "        vertical-align: middle;\n",
       "    }\n",
       "\n",
       "    .dataframe tbody tr th {\n",
       "        vertical-align: top;\n",
       "    }\n",
       "\n",
       "    .dataframe thead th {\n",
       "        text-align: right;\n",
       "    }\n",
       "</style>\n",
       "<table border=\"1\" class=\"dataframe\">\n",
       "  <thead>\n",
       "    <tr style=\"text-align: right;\">\n",
       "      <th></th>\n",
       "      <th>FileType</th>\n",
       "      <th>Count</th>\n",
       "      <th>Size</th>\n",
       "    </tr>\n",
       "  </thead>\n",
       "  <tbody>\n",
       "    <tr>\n",
       "      <th>0</th>\n",
       "      <td>.jpg</td>\n",
       "      <td>2,610</td>\n",
       "      <td>1.06GB</td>\n",
       "    </tr>\n",
       "  </tbody>\n",
       "</table>\n",
       "</div>"
      ],
      "text/plain": [
       "  FileType  Count    Size\n",
       "0     .jpg  2,610  1.06GB"
      ]
     },
     "execution_count": 28,
     "metadata": {},
     "output_type": "execute_result"
    }
   ],
   "source": [
    "from helpers import get_file_stats\n",
    "\n",
    "DATA_URL = 'https://data.labs.loc.gov/free-to-use/' # Base URL of this data package\n",
    "\n",
    "# Download the file manifest\n",
    "file_manifest_url = f'{DATA_URL}manifest.json'\n",
    "response = requests.get(file_manifest_url, timeout=60)\n",
    "response_json = response.json()\n",
    "files = [dict(zip(response_json[\"cols\"], row)) for row in response_json[\"rows\"]] # zip columns and rows\n",
    "\n",
    "# Convert to Pandas DataFrame and show stats table\n",
    "stats = get_file_stats(files)\n",
    "pd.DataFrame(stats)"
   ]
  },
  {
   "cell_type": "code",
   "execution_count": 29,
   "metadata": {},
   "outputs": [
    {
     "name": "stdout",
     "output_type": "stream",
     "text": [
      "Loaded metadata file with 2,610 entries.\n"
     ]
    }
   ],
   "source": [
    "metadata_url = f'{DATA_URL}metadata.json'\n",
    "response = requests.get(metadata_url, timeout=60)\n",
    "data = response.json()\n",
    "print(f'Loaded metadata file with {len(data):,} entries.')"
   ]
  },
  {
   "cell_type": "code",
   "execution_count": 30,
   "metadata": {},
   "outputs": [
    {
     "name": "stdout",
     "output_type": "stream",
     "text": [
      "Call_number, Contributors, Date_text, Date, Digitized, Set, Genre, Id, IIIF_manifest, Preview_url, Index, Other_title, Description, Creators, Type_of_resource, Location_text, Other_record_formats, Rights, Source_collection, Language, Lccn, Medium, Mime_type, Notes, Online_format, Original_format, Part_of, Repository, Number_of_files, Shelf_id, Subjects, Subject_headings, Last_updated_in_api, Title, Url, Location\n"
     ]
    }
   ],
   "source": [
    "df = pd.DataFrame(data)\n",
    "print(', '.join(df.columns.to_list()))"
   ]
  },
  {
   "cell_type": "code",
   "execution_count": 31,
   "metadata": {},
   "outputs": [
    {
     "data": {
      "text/html": [
       "<div>\n",
       "<style scoped>\n",
       "    .dataframe tbody tr th:only-of-type {\n",
       "        vertical-align: middle;\n",
       "    }\n",
       "\n",
       "    .dataframe tbody tr th {\n",
       "        vertical-align: top;\n",
       "    }\n",
       "\n",
       "    .dataframe thead th {\n",
       "        text-align: right;\n",
       "    }\n",
       "</style>\n",
       "<table border=\"1\" class=\"dataframe\">\n",
       "  <thead>\n",
       "    <tr style=\"text-align: right;\">\n",
       "      <th></th>\n",
       "      <th>count</th>\n",
       "    </tr>\n",
       "    <tr>\n",
       "      <th>Subjects</th>\n",
       "      <th></th>\n",
       "    </tr>\n",
       "  </thead>\n",
       "  <tbody>\n",
       "    <tr>\n",
       "      <th>united states</th>\n",
       "      <td>1073</td>\n",
       "    </tr>\n",
       "    <tr>\n",
       "      <th>color</th>\n",
       "      <td>827</td>\n",
       "    </tr>\n",
       "    <tr>\n",
       "      <th>photographic prints</th>\n",
       "      <td>332</td>\n",
       "    </tr>\n",
       "    <tr>\n",
       "      <th>portrait photographs</th>\n",
       "      <td>265</td>\n",
       "    </tr>\n",
       "    <tr>\n",
       "      <th>america</th>\n",
       "      <td>236</td>\n",
       "    </tr>\n",
       "    <tr>\n",
       "      <th>glass negatives</th>\n",
       "      <td>230</td>\n",
       "    </tr>\n",
       "    <tr>\n",
       "      <th>digital photographs</th>\n",
       "      <td>200</td>\n",
       "    </tr>\n",
       "    <tr>\n",
       "      <th>american</th>\n",
       "      <td>166</td>\n",
       "    </tr>\n",
       "    <tr>\n",
       "      <th>washington (d.c.)</th>\n",
       "      <td>153</td>\n",
       "    </tr>\n",
       "    <tr>\n",
       "      <th>new york (state)</th>\n",
       "      <td>143</td>\n",
       "    </tr>\n",
       "  </tbody>\n",
       "</table>\n",
       "</div>"
      ],
      "text/plain": [
       "                      count\n",
       "Subjects                   \n",
       "united states          1073\n",
       "color                   827\n",
       "photographic prints     332\n",
       "portrait photographs    265\n",
       "america                 236\n",
       "glass negatives         230\n",
       "digital photographs     200\n",
       "american                166\n",
       "washington (d.c.)       153\n",
       "new york (state)        143"
      ]
     },
     "execution_count": 31,
     "metadata": {},
     "output_type": "execute_result"
    }
   ],
   "source": [
    "# Since \"Subjects\" are a list, we must \"explode\" it so there's just one subject per row\n",
    "# We convert to DataFrame so it displays as a table\n",
    "df['Subjects'].explode().value_counts().iloc[:10].to_frame()"
   ]
  },
  {
   "cell_type": "code",
   "execution_count": 32,
   "metadata": {},
   "outputs": [
    {
     "name": "stdout",
     "output_type": "stream",
     "text": [
      "Found 236 items with subject \"america\"\n"
     ]
    }
   ],
   "source": [
    "df_by_subject = df.explode('Subjects')\n",
    "dc_set = df_by_subject[df_by_subject.Subjects == 'america']\n",
    "print(f'Found {dc_set.shape[0]:,} items with subject \"america\"')"
   ]
  },
  {
   "cell_type": "code",
   "execution_count": 33,
   "metadata": {},
   "outputs": [
    {
     "name": "stdout",
     "output_type": "stream",
     "text": [
      "Found 236 america items with image files\n"
     ]
    }
   ],
   "source": [
    "df_files = pd.DataFrame(files)\n",
    "dc_set_with_images = pd.merge(dc_set, df_files, left_on='Id', right_on='item_id', how='inner')\n",
    "print(f'Found {dc_set_with_images.shape[0]:,} america items with image files')"
   ]
  },
  {
   "cell_type": "code",
   "execution_count": 34,
   "metadata": {},
   "outputs": [
    {
     "name": "stdout",
     "output_type": "stream",
     "text": [
      "Downloaded and saved images/image_1.jpg\n",
      "Downloaded and saved images/image_2.jpg\n",
      "Downloaded and saved images/image_3.jpg\n",
      "Downloaded and saved images/image_4.jpg\n",
      "Downloaded and saved images/image_5.jpg\n",
      "Downloaded and saved images/image_6.jpg\n",
      "Downloaded and saved images/image_7.jpg\n",
      "Downloaded and saved images/image_8.jpg\n",
      "Downloaded and saved images/image_9.jpg\n",
      "Downloaded and saved images/image_10.jpg\n",
      "Downloaded and saved images/image_11.jpg\n",
      "Downloaded and saved images/image_12.jpg\n",
      "Downloaded and saved images/image_13.jpg\n",
      "Downloaded and saved images/image_14.jpg\n",
      "Downloaded and saved images/image_15.jpg\n",
      "Downloaded and saved images/image_16.jpg\n",
      "Downloaded and saved images/image_17.jpg\n",
      "Downloaded and saved images/image_18.jpg\n",
      "Downloaded and saved images/image_19.jpg\n",
      "Downloaded and saved images/image_20.jpg\n",
      "Downloaded and saved images/image_21.jpg\n",
      "Downloaded and saved images/image_22.jpg\n",
      "Downloaded and saved images/image_23.jpg\n",
      "Downloaded and saved images/image_24.jpg\n",
      "Downloaded and saved images/image_25.jpg\n",
      "Downloaded and saved images/image_26.jpg\n",
      "Downloaded and saved images/image_27.jpg\n",
      "Downloaded and saved images/image_28.jpg\n",
      "Downloaded and saved images/image_29.jpg\n",
      "Downloaded and saved images/image_30.jpg\n",
      "Downloaded and saved images/image_31.jpg\n",
      "Downloaded and saved images/image_32.jpg\n",
      "Downloaded and saved images/image_33.jpg\n",
      "Downloaded and saved images/image_34.jpg\n",
      "Downloaded and saved images/image_35.jpg\n",
      "Downloaded and saved images/image_36.jpg\n",
      "Downloaded and saved images/image_37.jpg\n",
      "Downloaded and saved images/image_38.jpg\n",
      "Downloaded and saved images/image_39.jpg\n",
      "Downloaded and saved images/image_40.jpg\n",
      "Downloaded and saved images/image_41.jpg\n",
      "Downloaded and saved images/image_42.jpg\n",
      "Downloaded and saved images/image_43.jpg\n",
      "Downloaded and saved images/image_44.jpg\n",
      "Downloaded and saved images/image_45.jpg\n",
      "Downloaded and saved images/image_46.jpg\n",
      "Downloaded and saved images/image_47.jpg\n",
      "Downloaded and saved images/image_48.jpg\n",
      "Downloaded and saved images/image_49.jpg\n",
      "Downloaded and saved images/image_50.jpg\n"
     ]
    },
    {
     "data": {
      "image/jpeg": "[encoded data removed]",
      "image/png": "[encoded data removed]",
      "text/plain": [
       "<PIL.Image.Image image mode=RGB size=300x300>"
      ]
     },
     "metadata": {},
     "output_type": "display_data"
    }
   ],
   "source": [
    "# Set the number of images to process\n",
    "count = 50  # Set to 50 to download the first 50 images\n",
    "dc_set_with_images = dc_set_with_images.head(count).reset_index()\n",
    "\n",
    "# Create images directory if it doesn't exist\n",
    "if not os.path.exists(\"images\"):\n",
    "    os.makedirs(\"images\")\n",
    "\n",
    "# Loop through image URLs and download images\n",
    "for i, row in dc_set_with_images.iterrows():\n",
    "    file_url = f'https://{row[\"object_key\"]}'\n",
    "    response = requests.get(file_url, timeout=60)\n",
    "    if response.status_code == 200:\n",
    "        image_filestream = io.BytesIO(response.content)\n",
    "        image = Image.open(image_filestream)\n",
    "        \n",
    "        # Save the image to the images directory\n",
    "        image_filename = f\"images/image_{i + 1}.jpg\"\n",
    "        image.save(image_filename)\n",
    "        print(f\"Downloaded and saved {image_filename}\")\n",
    "    else:\n",
    "        print(f\"Failed to download {file_url}\")\n",
    "\n",
    "# Define image dimensions for the base image\n",
    "image_w = 300\n",
    "image_h = 300\n",
    "cols = math.ceil(count / 2.0)\n",
    "rows = math.ceil(count / 2.0)\n",
    "cell_w = image_w / cols\n",
    "cell_h = image_h / rows\n",
    "\n",
    "# Create base image\n",
    "base_image = Image.new(\"RGB\", (image_w, image_h))\n",
    "\n",
    "# Loop through the downloaded images and arrange them into the base image\n",
    "for i in range(count):\n",
    "    image_path = f\"images/image_{i + 1}.jpg\"\n",
    "    if os.path.exists(image_path):\n",
    "        im = Image.open(image_path)\n",
    "\n",
    "        # Resize it as a thumbnail\n",
    "        im.thumbnail((cell_w, cell_h))\n",
    "        tw, th = im.size\n",
    "\n",
    "        # Position it\n",
    "        col = i % cols\n",
    "        row = int(i / cols)\n",
    "        offset_x = int((cell_w - tw) * 0.5) if tw < cell_w else 0\n",
    "        offset_y = int((cell_h - th) * 0.5) if th < cell_h else 0\n",
    "        x = int(col * cell_w + offset_x)\n",
    "        y = int(row * cell_h + offset_y)\n",
    "\n",
    "        # Paste it\n",
    "        base_image.paste(im, (x, y))\n",
    "\n",
    "# Display the result\n",
    "display(base_image)"
   ]
  },
  {
   "cell_type": "code",
   "execution_count": null,
   "metadata": {},
   "outputs": [],
   "source": []
  }
 ],
 "metadata": {
  "kernelspec": {
   "display_name": "loc-env",
   "language": "python",
   "name": "python3"
  },
  "language_info": {
   "codemirror_mode": {
    "name": "ipython",
    "version": 3
   },
   "file_extension": ".py",
   "mimetype": "text/x-python",
   "name": "python",
   "nbconvert_exporter": "python",
   "pygments_lexer": "ipython3",
   "version": "3.9.16"
  }
 },
 "nbformat": 4,
 "nbformat_minor": 2
}
